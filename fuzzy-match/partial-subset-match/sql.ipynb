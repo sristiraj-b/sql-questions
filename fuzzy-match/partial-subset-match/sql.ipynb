{
 "cells": [
  {
   "cell_type": "code",
   "execution_count": 0,
   "metadata": {
    "application/vnd.databricks.v1+cell": {
     "cellMetadata": {
      "byteLimit": 2048000,
      "rowLimit": 10000
     },
     "inputWidgets": {},
     "nuid": "3e4a84e4-54c9-438a-bd61-6c0f2ba44382",
     "showTitle": false,
     "tableResultSettingsMap": {},
     "title": ""
    }
   },
   "outputs": [
    {
     "output_type": "stream",
     "name": "stdout",
     "output_type": "stream",
     "text": [
      "Collecting fuzzywuzzy\n  Obtaining dependency information for fuzzywuzzy from https://files.pythonhosted.org/packages/43/ff/74f23998ad2f93b945c0309f825be92e04e0348e062026998b5eefef4c33/fuzzywuzzy-0.18.0-py2.py3-none-any.whl.metadata\n  Downloading fuzzywuzzy-0.18.0-py2.py3-none-any.whl.metadata (4.9 kB)\nDownloading fuzzywuzzy-0.18.0-py2.py3-none-any.whl (18 kB)\nInstalling collected packages: fuzzywuzzy\nSuccessfully installed fuzzywuzzy-0.18.0\n\u001B[43mNote: you may need to restart the kernel using %restart_python or dbutils.library.restartPython() to use updated packages.\u001B[0m\n"
     ]
    }
   ],
   "source": [
    "!pip install fuzzywuzzy"
   ]
  },
  {
   "cell_type": "markdown",
   "metadata": {
    "application/vnd.databricks.v1+cell": {
     "cellMetadata": {},
     "inputWidgets": {},
     "nuid": "aa15f3ae-5cf4-4d4b-a25b-07c6bf7598d2",
     "showTitle": false,
     "tableResultSettingsMap": {},
     "title": ""
    }
   },
   "source": [
    "##Create Dataframes with sample data \n",
    "#### Dataframe1 df1 = Data for glue data catalog with schema name, table name and s3 path of the table where data is stored\n",
    "#### Dataframe2 df2 = Data for s3 path from s3 inventory to give s3 path object with fully qualified path of object and corresponding storage cost"
   ]
  },
  {
   "cell_type": "code",
   "execution_count": 0,
   "metadata": {
    "application/vnd.databricks.v1+cell": {
     "cellMetadata": {
      "byteLimit": 2048000,
      "rowLimit": 10000
     },
     "inputWidgets": {},
     "nuid": "3464bbf8-a7bd-42e2-b5eb-771162844465",
     "showTitle": false,
     "tableResultSettingsMap": {},
     "title": ""
    }
   },
   "outputs": [],
   "source": [
    "df1 = spark.createDataFrame([(\"schema1\", \"table1\", \"s3://bucket/abc/def/table1\"),\n",
    "                             (\"schema1\", \"table2\", \"s3://bucket/abc/table2\"),\n",
    "                             (\"schema1\", \"table3\", \"s3://bucket/abc/def/ghi/table3\"),\n",
    "                             (\"schema1\", \"table4\", \"s3://bucket/abc/pqr/xyz/table4\"),\n",
    "                             (\"schema2\", \"table5\", \"s3://bucket/ijk/table5\")],[\"schema\",\"table\",\"table_path\"])\n",
    "df2 = spark.createDataFrame([(\"s3://bucket/abc/def/table1/1.parquet\", 100),\n",
    "                             (\"s3://bucket/abc/def/table1/2.parquet\", 40),\n",
    "                             (\"s3://bucket/abc/table2/pt_cycle_id=20250121000000/1.parquet\", 100),\n",
    "                             (\"s3://bucket/abc/table2/pt_cycle_id=20250121000000/2.parquet\", 110),\n",
    "                             (\"s3://bucket/abc/table2/pt_cycle_id=20250121000000/3.csv\", 160),\n",
    "                             (\"s3://bucket/abc/pqr/xyz/table4/2.parquet\", 260),\n",
    "                             (\"s3://bucket/abc/pqr/xyz/table4/aaa/7.parquet\", 580),\n",
    "                             (\"s3://bucket/ijk/table5/0.parquet\", 780),\n",
    "                             (\"s3://bucket/1.parquet\", 1000),\n",
    "                             (\"s3://bucket/ppp/uss/1.parquet\", 1780)],[\"s3_object\", \"cost\"])"
   ]
  },
  {
   "cell_type": "markdown",
   "metadata": {
    "application/vnd.databricks.v1+cell": {
     "cellMetadata": {},
     "inputWidgets": {},
     "nuid": "d7e7892f-5891-43da-80d9-b7aca98f2d65",
     "showTitle": false,
     "tableResultSettingsMap": {},
     "title": ""
    }
   },
   "source": [
    "\n",
    "## Show data for data frames"
   ]
  },
  {
   "cell_type": "code",
   "execution_count": 0,
   "metadata": {
    "application/vnd.databricks.v1+cell": {
     "cellMetadata": {
      "byteLimit": 2048000,
      "rowLimit": 10000
     },
     "inputWidgets": {},
     "nuid": "423cd75a-1854-4bfb-be4c-e80767a90584",
     "showTitle": false,
     "tableResultSettingsMap": {},
     "title": ""
    }
   },
   "outputs": [
    {
     "output_type": "display_data",
     "data": {
      "text/html": [
       "<style scoped>\n",
       "  .table-result-container {\n",
       "    max-height: 300px;\n",
       "    overflow: auto;\n",
       "  }\n",
       "  table, th, td {\n",
       "    border: 1px solid black;\n",
       "    border-collapse: collapse;\n",
       "  }\n",
       "  th, td {\n",
       "    padding: 5px;\n",
       "  }\n",
       "  th {\n",
       "    text-align: left;\n",
       "  }\n",
       "</style><div class='table-result-container'><table class='table-result'><thead style='background-color: white'><tr><th>schema</th><th>table</th><th>table_path</th></tr></thead><tbody><tr><td>schema1</td><td>table1</td><td>s3://bucket/abc/def/table1</td></tr><tr><td>schema1</td><td>table2</td><td>s3://bucket/abc/table2</td></tr><tr><td>schema1</td><td>table3</td><td>s3://bucket/abc/def/ghi/table3</td></tr><tr><td>schema1</td><td>table4</td><td>s3://bucket/abc/pqr/xyz/table4</td></tr><tr><td>schema2</td><td>table5</td><td>s3://bucket/ijk/table5</td></tr></tbody></table></div>"
      ]
     },
     "metadata": {
      "application/vnd.databricks.v1+output": {
       "addedWidgets": {},
       "aggData": [],
       "aggError": "",
       "aggOverflow": false,
       "aggSchema": [],
       "aggSeriesLimitReached": false,
       "aggType": "",
       "arguments": {},
       "columnCustomDisplayInfos": {},
       "data": [
        [
         "schema1",
         "table1",
         "s3://bucket/abc/def/table1"
        ],
        [
         "schema1",
         "table2",
         "s3://bucket/abc/table2"
        ],
        [
         "schema1",
         "table3",
         "s3://bucket/abc/def/ghi/table3"
        ],
        [
         "schema1",
         "table4",
         "s3://bucket/abc/pqr/xyz/table4"
        ],
        [
         "schema2",
         "table5",
         "s3://bucket/ijk/table5"
        ]
       ],
       "datasetInfos": [],
       "dbfsResultPath": null,
       "isJsonSchema": true,
       "metadata": {},
       "overflow": false,
       "plotOptions": {
        "customPlotOptions": {},
        "displayType": "table",
        "pivotAggregation": null,
        "pivotColumns": null,
        "xColumns": null,
        "yColumns": null
       },
       "removedWidgets": [],
       "schema": [
        {
         "metadata": "{}",
         "name": "schema",
         "type": "\"string\""
        },
        {
         "metadata": "{}",
         "name": "table",
         "type": "\"string\""
        },
        {
         "metadata": "{}",
         "name": "table_path",
         "type": "\"string\""
        }
       ],
       "type": "table"
      }
     },
     "output_type": "display_data"
    }
   ],
   "source": [
    "display(df1)"
   ]
  },
  {
   "cell_type": "markdown",
   "metadata": {
    "application/vnd.databricks.v1+cell": {
     "cellMetadata": {},
     "inputWidgets": {},
     "nuid": "3926d6b3-36f9-4192-8f86-d0e59bc4c50f",
     "showTitle": false,
     "tableResultSettingsMap": {},
     "title": ""
    }
   },
   "source": [
    "\n",
    "## Show data for dataframe 2\n"
   ]
  },
  {
   "cell_type": "code",
   "execution_count": 0,
   "metadata": {
    "application/vnd.databricks.v1+cell": {
     "cellMetadata": {
      "byteLimit": 2048000,
      "rowLimit": 10000
     },
     "inputWidgets": {},
     "nuid": "612e5f73-0d42-4036-a320-58b251d2b07f",
     "showTitle": false,
     "tableResultSettingsMap": {},
     "title": ""
    }
   },
   "outputs": [
    {
     "output_type": "display_data",
     "data": {
      "text/html": [
       "<style scoped>\n",
       "  .table-result-container {\n",
       "    max-height: 300px;\n",
       "    overflow: auto;\n",
       "  }\n",
       "  table, th, td {\n",
       "    border: 1px solid black;\n",
       "    border-collapse: collapse;\n",
       "  }\n",
       "  th, td {\n",
       "    padding: 5px;\n",
       "  }\n",
       "  th {\n",
       "    text-align: left;\n",
       "  }\n",
       "</style><div class='table-result-container'><table class='table-result'><thead style='background-color: white'><tr><th>s3_object</th><th>cost</th></tr></thead><tbody><tr><td>s3://bucket/abc/def/table1/1.parquet</td><td>100</td></tr><tr><td>s3://bucket/abc/def/table1/2.parquet</td><td>40</td></tr><tr><td>s3://bucket/abc/table2/pt_cycle_id=20250121000000/1.parquet</td><td>100</td></tr><tr><td>s3://bucket/abc/table2/pt_cycle_id=20250121000000/2.parquet</td><td>110</td></tr><tr><td>s3://bucket/abc/table2/pt_cycle_id=20250121000000/3.csv</td><td>160</td></tr><tr><td>s3://bucket/abc/pqr/xyz/table4/2.parquet</td><td>260</td></tr><tr><td>s3://bucket/abc/pqr/xyz/table4/aaa/7.parquet</td><td>580</td></tr><tr><td>s3://bucket/ijk/table5/0.parquet</td><td>780</td></tr><tr><td>s3://bucket/1.parquet</td><td>1000</td></tr><tr><td>s3://bucket/ppp/uss/1.parquet</td><td>1780</td></tr></tbody></table></div>"
      ]
     },
     "metadata": {
      "application/vnd.databricks.v1+output": {
       "addedWidgets": {},
       "aggData": [],
       "aggError": "",
       "aggOverflow": false,
       "aggSchema": [],
       "aggSeriesLimitReached": false,
       "aggType": "",
       "arguments": {},
       "columnCustomDisplayInfos": {},
       "data": [
        [
         "s3://bucket/abc/def/table1/1.parquet",
         100
        ],
        [
         "s3://bucket/abc/def/table1/2.parquet",
         40
        ],
        [
         "s3://bucket/abc/table2/pt_cycle_id=20250121000000/1.parquet",
         100
        ],
        [
         "s3://bucket/abc/table2/pt_cycle_id=20250121000000/2.parquet",
         110
        ],
        [
         "s3://bucket/abc/table2/pt_cycle_id=20250121000000/3.csv",
         160
        ],
        [
         "s3://bucket/abc/pqr/xyz/table4/2.parquet",
         260
        ],
        [
         "s3://bucket/abc/pqr/xyz/table4/aaa/7.parquet",
         580
        ],
        [
         "s3://bucket/ijk/table5/0.parquet",
         780
        ],
        [
         "s3://bucket/1.parquet",
         1000
        ],
        [
         "s3://bucket/ppp/uss/1.parquet",
         1780
        ]
       ],
       "datasetInfos": [],
       "dbfsResultPath": null,
       "isJsonSchema": true,
       "metadata": {},
       "overflow": false,
       "plotOptions": {
        "customPlotOptions": {},
        "displayType": "table",
        "pivotAggregation": null,
        "pivotColumns": null,
        "xColumns": null,
        "yColumns": null
       },
       "removedWidgets": [],
       "schema": [
        {
         "metadata": "{}",
         "name": "s3_object",
         "type": "\"string\""
        },
        {
         "metadata": "{}",
         "name": "cost",
         "type": "\"long\""
        }
       ],
       "type": "table"
      }
     },
     "output_type": "display_data"
    }
   ],
   "source": [
    "display(df2)"
   ]
  },
  {
   "cell_type": "markdown",
   "metadata": {
    "application/vnd.databricks.v1+cell": {
     "cellMetadata": {},
     "inputWidgets": {},
     "nuid": "24b79f84-886c-444b-85bc-59467523f3a6",
     "showTitle": false,
     "tableResultSettingsMap": {},
     "title": ""
    }
   },
   "source": [
    "\n",
    "## Create a sql UDF with fuzzywuzzy to do a partial join with closes match of string. Partial token ratio is used in cases where one string is subset of another, which is the case for us. There are other fuzzy match ratios in fuzzywuzzy."
   ]
  },
  {
   "cell_type": "code",
   "execution_count": 0,
   "metadata": {
    "application/vnd.databricks.v1+cell": {
     "cellMetadata": {
      "byteLimit": 2048000,
      "rowLimit": 10000
     },
     "inputWidgets": {},
     "nuid": "be68cc1d-8160-41d9-a129-25c59fb7105b",
     "showTitle": false,
     "tableResultSettingsMap": {},
     "title": ""
    }
   },
   "outputs": [],
   "source": [
    "from pyspark.sql.functions import *\n",
    "from pyspark.sql.types import IntegerType\n",
    "from fuzzywuzzy import fuzz\n",
    "\n",
    "def match(str1, str2):\n",
    "  match = fuzz.partial_ratio(str1, str2)\n",
    "  return match\n",
    "\n",
    "fuzzy_match = udf(match, IntegerType())\n"
   ]
  },
  {
   "cell_type": "markdown",
   "metadata": {
    "application/vnd.databricks.v1+cell": {
     "cellMetadata": {},
     "inputWidgets": {},
     "nuid": "d1368cae-d249-4671-958e-64b8c0e9f7a8",
     "showTitle": false,
     "tableResultSettingsMap": {},
     "title": ""
    }
   },
   "source": [
    "\n",
    "## Register the dataframes as temporary view in spark"
   ]
  },
  {
   "cell_type": "code",
   "execution_count": 0,
   "metadata": {
    "application/vnd.databricks.v1+cell": {
     "cellMetadata": {
      "byteLimit": 2048000,
      "rowLimit": 10000
     },
     "inputWidgets": {},
     "nuid": "94883a45-d388-4961-a502-5270b2bde90d",
     "showTitle": false,
     "tableResultSettingsMap": {},
     "title": ""
    }
   },
   "outputs": [],
   "source": [
    "df1.createOrReplaceTempView(\"tables\")\n",
    "df2.createOrReplaceTempView(\"s3_inventory\")"
   ]
  },
  {
   "cell_type": "markdown",
   "metadata": {
    "application/vnd.databricks.v1+cell": {
     "cellMetadata": {},
     "inputWidgets": {},
     "nuid": "4ba21b93-3c2e-4645-810a-1e0618c6efdc",
     "showTitle": false,
     "tableResultSettingsMap": {},
     "title": ""
    }
   },
   "source": [
    "\n",
    "##Register the udf to be used in spark UDF"
   ]
  },
  {
   "cell_type": "code",
   "execution_count": 0,
   "metadata": {
    "application/vnd.databricks.v1+cell": {
     "cellMetadata": {
      "byteLimit": 2048000,
      "rowLimit": 10000
     },
     "inputWidgets": {},
     "nuid": "54964ff5-5c11-494b-8aea-ed5b75efd81b",
     "showTitle": false,
     "tableResultSettingsMap": {},
     "title": ""
    }
   },
   "outputs": [
    {
     "output_type": "execute_result",
     "data": {
      "text/plain": [
       "<function __main__.match(str1, str2)>"
      ]
     },
     "execution_count": 12,
     "metadata": {},
     "output_type": "execute_result"
    }
   ],
   "source": [
    "spark.udf.register(\"fuzzy_match\", match, IntegerType())"
   ]
  },
  {
   "cell_type": "markdown",
   "metadata": {
    "application/vnd.databricks.v1+cell": {
     "cellMetadata": {},
     "inputWidgets": {},
     "nuid": "51e44b14-84c9-426d-8773-379dc033c7a5",
     "showTitle": false,
     "tableResultSettingsMap": {},
     "title": ""
    }
   },
   "source": [
    "##Perform a cross join and return only records with partial match value as 100. "
   ]
  },
  {
   "cell_type": "code",
   "execution_count": 0,
   "metadata": {
    "application/vnd.databricks.v1+cell": {
     "cellMetadata": {
      "byteLimit": 2048000,
      "implicitDf": true,
      "rowLimit": 10000
     },
     "inputWidgets": {},
     "nuid": "06fd57d4-b49f-4d2a-950c-b903fc69e4d4",
     "showTitle": false,
     "tableResultSettingsMap": {},
     "title": ""
    }
   },
   "outputs": [
    {
     "output_type": "display_data",
     "data": {
      "text/html": [
       "<style scoped>\n",
       "  .table-result-container {\n",
       "    max-height: 300px;\n",
       "    overflow: auto;\n",
       "  }\n",
       "  table, th, td {\n",
       "    border: 1px solid black;\n",
       "    border-collapse: collapse;\n",
       "  }\n",
       "  th, td {\n",
       "    padding: 5px;\n",
       "  }\n",
       "  th {\n",
       "    text-align: left;\n",
       "  }\n",
       "</style><div class='table-result-container'><table class='table-result'><thead style='background-color: white'><tr><th>schema</th><th>table</th><th>table_path</th><th>s3_object</th><th>cost</th></tr></thead><tbody><tr><td>schema1</td><td>table1</td><td>s3://bucket/abc/def/table1</td><td>s3://bucket/abc/def/table1/1.parquet</td><td>100</td></tr><tr><td>schema1</td><td>table1</td><td>s3://bucket/abc/def/table1</td><td>s3://bucket/abc/def/table1/2.parquet</td><td>40</td></tr><tr><td>schema1</td><td>table2</td><td>s3://bucket/abc/table2</td><td>s3://bucket/abc/table2/pt_cycle_id=20250121000000/1.parquet</td><td>100</td></tr><tr><td>schema1</td><td>table2</td><td>s3://bucket/abc/table2</td><td>s3://bucket/abc/table2/pt_cycle_id=20250121000000/2.parquet</td><td>110</td></tr><tr><td>schema1</td><td>table2</td><td>s3://bucket/abc/table2</td><td>s3://bucket/abc/table2/pt_cycle_id=20250121000000/3.csv</td><td>160</td></tr><tr><td>schema1</td><td>table4</td><td>s3://bucket/abc/pqr/xyz/table4</td><td>s3://bucket/abc/pqr/xyz/table4/2.parquet</td><td>260</td></tr><tr><td>schema1</td><td>table4</td><td>s3://bucket/abc/pqr/xyz/table4</td><td>s3://bucket/abc/pqr/xyz/table4/aaa/7.parquet</td><td>580</td></tr><tr><td>schema2</td><td>table5</td><td>s3://bucket/ijk/table5</td><td>s3://bucket/ijk/table5/0.parquet</td><td>780</td></tr></tbody></table></div>"
      ]
     },
     "metadata": {
      "application/vnd.databricks.v1+output": {
       "addedWidgets": {},
       "aggData": [],
       "aggError": "",
       "aggOverflow": false,
       "aggSchema": [],
       "aggSeriesLimitReached": false,
       "aggType": "",
       "arguments": {},
       "columnCustomDisplayInfos": {},
       "data": [
        [
         "schema1",
         "table1",
         "s3://bucket/abc/def/table1",
         "s3://bucket/abc/def/table1/1.parquet",
         100
        ],
        [
         "schema1",
         "table1",
         "s3://bucket/abc/def/table1",
         "s3://bucket/abc/def/table1/2.parquet",
         40
        ],
        [
         "schema1",
         "table2",
         "s3://bucket/abc/table2",
         "s3://bucket/abc/table2/pt_cycle_id=20250121000000/1.parquet",
         100
        ],
        [
         "schema1",
         "table2",
         "s3://bucket/abc/table2",
         "s3://bucket/abc/table2/pt_cycle_id=20250121000000/2.parquet",
         110
        ],
        [
         "schema1",
         "table2",
         "s3://bucket/abc/table2",
         "s3://bucket/abc/table2/pt_cycle_id=20250121000000/3.csv",
         160
        ],
        [
         "schema1",
         "table4",
         "s3://bucket/abc/pqr/xyz/table4",
         "s3://bucket/abc/pqr/xyz/table4/2.parquet",
         260
        ],
        [
         "schema1",
         "table4",
         "s3://bucket/abc/pqr/xyz/table4",
         "s3://bucket/abc/pqr/xyz/table4/aaa/7.parquet",
         580
        ],
        [
         "schema2",
         "table5",
         "s3://bucket/ijk/table5",
         "s3://bucket/ijk/table5/0.parquet",
         780
        ]
       ],
       "datasetInfos": [
        {
         "name": "_sqldf",
         "schema": {
          "fields": [
           {
            "metadata": {},
            "name": "schema",
            "nullable": true,
            "type": "string"
           },
           {
            "metadata": {},
            "name": "table",
            "nullable": true,
            "type": "string"
           },
           {
            "metadata": {},
            "name": "table_path",
            "nullable": true,
            "type": "string"
           },
           {
            "metadata": {},
            "name": "s3_object",
            "nullable": true,
            "type": "string"
           },
           {
            "metadata": {},
            "name": "cost",
            "nullable": true,
            "type": "long"
           }
          ],
          "type": "struct"
         },
         "tableIdentifier": null,
         "typeStr": "pyspark.sql.connect.dataframe.DataFrame"
        }
       ],
       "dbfsResultPath": null,
       "isJsonSchema": true,
       "metadata": {
        "createTempViewForImplicitDf": true,
        "dataframeName": "_sqldf",
        "executionCount": 14
       },
       "overflow": false,
       "plotOptions": {
        "customPlotOptions": {},
        "displayType": "table",
        "pivotAggregation": null,
        "pivotColumns": null,
        "xColumns": null,
        "yColumns": null
       },
       "removedWidgets": [],
       "schema": [
        {
         "metadata": "{}",
         "name": "schema",
         "type": "\"string\""
        },
        {
         "metadata": "{}",
         "name": "table",
         "type": "\"string\""
        },
        {
         "metadata": "{}",
         "name": "table_path",
         "type": "\"string\""
        },
        {
         "metadata": "{}",
         "name": "s3_object",
         "type": "\"string\""
        },
        {
         "metadata": "{}",
         "name": "cost",
         "type": "\"long\""
        }
       ],
       "type": "table"
      }
     },
     "output_type": "display_data"
    }
   ],
   "source": [
    "%sql\n",
    "select *\n",
    "from\n",
    "tables t\n",
    "cross join\n",
    "s3_inventory s3\n",
    "where fuzzy_match(t.table_path, s3.s3_object)=100"
   ]
  }
 ],
 "metadata": {
  "application/vnd.databricks.v1+notebook": {
   "computePreferences": null,
   "dashboards": [],
   "environmentMetadata": {
    "base_environment": "",
    "client": "2"
   },
   "language": "python",
   "notebookMetadata": {
    "mostRecentlyExecutedCommandWithImplicitDF": {
     "commandId": 5396772892337026,
     "dataframes": [
      "_sqldf"
     ]
    },
    "pythonIndentUnit": 4
   },
   "notebookName": "FuzzyJoin",
   "widgets": {}
  },
  "language_info": {
   "name": "python"
  }
 },
 "nbformat": 4,
 "nbformat_minor": 0
}
